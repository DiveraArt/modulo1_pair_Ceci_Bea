{
 "cells": [
  {
   "cell_type": "markdown",
   "metadata": {},
   "source": [
    "# Funciones\n",
    "\n",
    "1. Calcular el área de un círculo.\n",
    "\n",
    "- **Descripción**: Crea una función llamada `calcular_area_circulo` que tome el radio como parámetro y devuelva el área del círculo.\n",
    "\n",
    "    **NOTA:** Os dejamos aquí un link para recordar comose calculaba el área de un círculo."
   ]
  },
  {
   "cell_type": "code",
   "execution_count": 6,
   "metadata": {},
   "outputs": [
    {
     "name": "stdout",
     "output_type": "stream",
     "text": [
      "El area de un círculo con radio 5 es 78.53981633974483\n"
     ]
    },
    {
     "data": {
      "text/plain": [
       "78.53981633974483"
      ]
     },
     "execution_count": 6,
     "metadata": {},
     "output_type": "execute_result"
    }
   ],
   "source": [
    "import math\n",
    "# Hemos importado una librería de matemáticas para poder hacer la ecuación.\n",
    "\n",
    "# def= es la forma de indicar que es una función \n",
    "# calcular_area_círculo es el nombre descriptivo de la función\n",
    "# radio es el parámetro\n",
    "def calcular_area_circulo(radio):\n",
    "    # Aquí creamos la variable area en la cual se ejecutará el calculo del area dle círculo\n",
    "    # el math.pi es el número pi escrito en phyto seguún la libreria de matemáticas que hemos importado.\n",
    "    # area es pi por radio elevado al cuadrado\n",
    "    area = math.pi * radio ** 2\n",
    "    # el return debe devolver el area\n",
    "    print(f\"El area de un círculo con radio {radio} es {area}\")\n",
    "    return area\n",
    "\n",
    "# Nosotras decidimos el radio, en este caso es 5\n",
    "radio = 5\n",
    "# Aquí llamamos a la función. Que podríamos almacenarla en una variable: area = calcular_area_circulo(radio)\n",
    "calcular_area_circulo(radio)\n",
    "\n",
    "# Lo que se guarda va en area. "
   ]
  },
  {
   "cell_type": "markdown",
   "metadata": {},
   "source": [
    "2. Contar la cantidad de caracteres en una cadena.\n",
    "\n",
    "- **Descripción**: Crea una función llamada `contar_caracteres` que tome una cadena como parámetro y devuelva la cantidad de caracteres que contiene."
   ]
  },
  {
   "cell_type": "code",
   "execution_count": 8,
   "metadata": {},
   "outputs": [
    {
     "name": "stdout",
     "output_type": "stream",
     "text": [
      "Los caracteres son Hola Adalaber y su cantidad es 13\n"
     ]
    }
   ],
   "source": [
    "# Definimos la función que nos va a devolver el total de carácteres de la cadena.\n",
    "# Recordemos que es un string, así que lo tratamos como uno y le pedimos el total usando el len()\n",
    "def contar_caracteres(cadena):\n",
    "    return len(cadena)\n",
    "\n",
    "# Definimos la variable global con el contenido del string\n",
    "texto = \"Hola Adalaber\"\n",
    "# Guardamos en otra variable la función.\n",
    "cantidad = contar_caracteres(texto)\n",
    "# Usamos un print para ver el resultado en el que mostramos el texto y luego el resultado que nos da la función.\n",
    "print(f\"Los caracteres son '{texto}' y su cantidad de carácteres es {cantidad}\")"
   ]
  },
  {
   "cell_type": "markdown",
   "metadata": {},
   "source": [
    "3. Determinar si una cadena es un palíndromo.\n",
    "\n",
    "- **Descripción**: Crea una función llamada `es_palindromo` que tome una cadena como parámetro y devuelva `True` si es un palíndromo, o `False` si no lo es.\n",
    "\n",
    "- ¿Qué es un palíndromo?."
   ]
  },
  {
   "cell_type": "code",
   "execution_count": null,
   "metadata": {},
   "outputs": [],
   "source": []
  },
  {
   "cell_type": "markdown",
   "metadata": {},
   "source": [
    "4. Calcular el promedio de una lista de números.\n",
    "\n",
    "- **Descripción**: Crea una función llamada `calcular_promedio` que tome una lista de números como parámetro y devuelva el promedio de todos sus elementos."
   ]
  },
  {
   "cell_type": "code",
   "execution_count": null,
   "metadata": {},
   "outputs": [],
   "source": []
  },
  {
   "cell_type": "markdown",
   "metadata": {},
   "source": [
    "5. Calcular el interés compuesto.\n",
    "\n",
    "- **Descripción**: Crea una función llamada `calcular_interes_compuesto` que tome el capital inicial, la tasa de interés y el número de períodos como parámetros y devuelva el beneficio final después del interés compuesto."
   ]
  },
  {
   "cell_type": "code",
   "execution_count": null,
   "metadata": {},
   "outputs": [],
   "source": []
  },
  {
   "cell_type": "markdown",
   "metadata": {},
   "source": [
    "6. Validar si una palabra es un anagrama de otra.\n",
    "\n",
    "- **Descripción**: Crea una función llamada `es_anagrama` que tome dos palabras como parámetros y devuelva `True` si una es un anagrama de la otra, o `False` si no lo es.\n",
    "\n",
    "- ¿Qué es un anagrama?."
   ]
  },
  {
   "cell_type": "code",
   "execution_count": null,
   "metadata": {},
   "outputs": [],
   "source": []
  },
  {
   "cell_type": "markdown",
   "metadata": {},
   "source": [
    "7. Validar si una cadena de texto es un isograma.\n",
    "\n",
    "- **Descripción**: Crea una función llamada `es_isograma` que tome una cadena de texto como parámetro y devuelva `True` si es un isograma. En caso contrario, devuelve `False`.\n",
    "\n",
    "- ¿Qué es un isograma? Una palabra que no contiene letras repetidas."
   ]
  },
  {
   "cell_type": "code",
   "execution_count": null,
   "metadata": {},
   "outputs": [],
   "source": []
  },
  {
   "cell_type": "markdown",
   "metadata": {},
   "source": [
    "8. Concatenar múltiples cadenas de texto\n",
    "\n",
    "- **Descripción**: Crea una función llamada `concatenar_cadenas` que tome una cantidad variable de cadenas de texto como argumentos y devuelva una única cadena que contenga la concatenación de todas las cadenas ingresadas."
   ]
  },
  {
   "cell_type": "code",
   "execution_count": null,
   "metadata": {},
   "outputs": [],
   "source": [
    "# Solo usar args"
   ]
  },
  {
   "cell_type": "markdown",
   "metadata": {},
   "source": [
    "9. Crear un diccionario con información de una persona.\n",
    "\n",
    "- **Descripción**: Crea una función llamada `crear_persona` que tome como argumentos clave-valor los datos de una persona, como nombre, edad, ciudad, etc., y devuelva un diccionario con toda la información ingresada."
   ]
  },
  {
   "cell_type": "code",
   "execution_count": null,
   "metadata": {},
   "outputs": [],
   "source": [
    "# Solo usar kwargs"
   ]
  },
  {
   "cell_type": "markdown",
   "metadata": {},
   "source": [
    "10. Encontrar el número que falta en una lista ordenada de números consecutivos.\n",
    "\n",
    "- **Descripción**: Crea una función llamada `encontrar_numero_faltante` que tome una lista de números consecutivos (del 1 al N, sin repetir) con un número faltante y devuelva ese número faltante."
   ]
  },
  {
   "cell_type": "code",
   "execution_count": null,
   "metadata": {},
   "outputs": [],
   "source": []
  },
  {
   "cell_type": "markdown",
   "metadata": {},
   "source": [
    "11. Encontrar el elemento duplicado en una lista de números.\n",
    "\n",
    "- **Descripción**: Crea una función llamada `encontrar_duplicado` que tome una lista de números enteros y devuelva el elemento que está duplicado en la lista."
   ]
  },
  {
   "cell_type": "code",
   "execution_count": null,
   "metadata": {},
   "outputs": [],
   "source": []
  }
 ],
 "metadata": {
  "kernelspec": {
   "display_name": "base",
   "language": "python",
   "name": "python3"
  },
  "language_info": {
   "codemirror_mode": {
    "name": "ipython",
    "version": 3
   },
   "file_extension": ".py",
   "mimetype": "text/x-python",
   "name": "python",
   "nbconvert_exporter": "python",
   "pygments_lexer": "ipython3",
   "version": "3.11.7"
  }
 },
 "nbformat": 4,
 "nbformat_minor": 2
}
