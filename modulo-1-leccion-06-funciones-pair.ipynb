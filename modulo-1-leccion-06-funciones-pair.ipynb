{
 "cells": [
  {
   "cell_type": "markdown",
   "metadata": {},
   "source": [
    "# Funciones\n",
    "\n",
    "1. Calcular el área de un círculo.\n",
    "\n",
    "- **Descripción**: Crea una función llamada `calcular_area_circulo` que tome el radio como parámetro y devuelva el área del círculo.\n",
    "\n",
    "    **NOTA:** Os dejamos aquí un link para recordar comose calculaba el área de un círculo."
   ]
  },
  {
   "cell_type": "code",
   "execution_count": 1,
   "metadata": {},
   "outputs": [
    {
     "name": "stdout",
     "output_type": "stream",
     "text": [
      "El area de un círculo con radio 5 es 78.53981633974483\n"
     ]
    },
    {
     "data": {
      "text/plain": [
       "78.53981633974483"
      ]
     },
     "execution_count": 1,
     "metadata": {},
     "output_type": "execute_result"
    }
   ],
   "source": [
    "import math\n",
    "# Hemos importado una librería de matemáticas para poder hacer la ecuación.\n",
    "\n",
    "# def= es la forma de indicar que es una función \n",
    "# calcular_area_círculo es el nombre descriptivo de la función\n",
    "# radio es el parámetro\n",
    "def calcular_area_circulo(radio):\n",
    "    # Aquí creamos la variable area en la cual se ejecutará el calculo del area dle círculo\n",
    "    # el math.pi es el número pi escrito en phyto seguún la libreria de matemáticas que hemos importado.\n",
    "    # area es pi por radio elevado al cuadrado\n",
    "    area = math.pi * radio ** 2\n",
    "    # el return debe devolver el area\n",
    "    print(f\"El area de un círculo con radio {radio} es {area}\")\n",
    "    return area\n",
    "\n",
    "# Nosotras decidimos el radio, en este caso es 5\n",
    "radio = 5\n",
    "# Aquí llamamos a la función. Que podríamos almacenarla en una variable: area = calcular_area_circulo(radio)\n",
    "calcular_area_circulo(radio)\n",
    "\n",
    "# Lo que se guarda va en area. "
   ]
  },
  {
   "cell_type": "markdown",
   "metadata": {},
   "source": [
    "2. Contar la cantidad de caracteres en una cadena.\n",
    "\n",
    "- **Descripción**: Crea una función llamada `contar_caracteres` que tome una cadena como parámetro y devuelva la cantidad de caracteres que contiene."
   ]
  },
  {
   "cell_type": "code",
   "execution_count": 2,
   "metadata": {},
   "outputs": [
    {
     "name": "stdout",
     "output_type": "stream",
     "text": [
      "Los caracteres son 'Hola Adalaber' y su cantidad de carácteres es 13\n"
     ]
    }
   ],
   "source": [
    "# Definimos la función que nos va a devolver el total de carácteres de la cadena.\n",
    "# Recordemos que es un string, así que lo tratamos como uno y le pedimos el total usando el len()\n",
    "def contar_caracteres(cadena):\n",
    "    return len(cadena)\n",
    "\n",
    "# Definimos la variable global con el contenido del string\n",
    "texto = \"Hola Adalaber\"\n",
    "# Guardamos en otra variable la función.\n",
    "cantidad = contar_caracteres(texto)\n",
    "# Usamos un print para ver el resultado en el que mostramos el texto y luego el resultado que nos da la función.\n",
    "print(f\"Los caracteres son '{texto}' y su cantidad de carácteres es {cantidad}\")"
   ]
  },
  {
   "cell_type": "markdown",
   "metadata": {},
   "source": [
    "3. Determinar si una cadena es un palíndromo.\n",
    "\n",
    "- **Descripción**: Crea una función llamada `es_palindromo` que tome una cadena como parámetro y devuelva `True` si es un palíndromo, o `False` si no lo es.\n",
    "\n",
    "- ¿Qué es un palíndromo?."
   ]
  },
  {
   "cell_type": "code",
   "execution_count": 3,
   "metadata": {},
   "outputs": [],
   "source": [
    "frase=\"roma amor\"\n",
    "\n",
    "\n",
    "def es_palindromo (cadena):\n",
    "\n",
    "    cadena_al_reves = cadena[::-1]\n",
    "    print( cadena_al_reves)\n",
    "    print(cadena)\n",
    "\n",
    "    if cadena_al_reves == cadena:\n",
    "\n",
    "        print('esto es palindromo')\n",
    "    else:\n",
    "        print('no es palindromo')        \n",
    "    "
   ]
  },
  {
   "cell_type": "code",
   "execution_count": 4,
   "metadata": {},
   "outputs": [
    {
     "name": "stdout",
     "output_type": "stream",
     "text": [
      "roma amor\n",
      "roma amor\n",
      "esto es palindromo\n"
     ]
    }
   ],
   "source": [
    "es_palindromo (frase)\n"
   ]
  },
  {
   "cell_type": "markdown",
   "metadata": {},
   "source": [
    "4. Calcular el promedio de una lista de números.\n",
    "\n",
    "- **Descripción**: Crea una función llamada `calcular_promedio` que tome una lista de números como parámetro y devuelva el promedio de todos sus elementos."
   ]
  },
  {
   "cell_type": "code",
   "execution_count": 22,
   "metadata": {},
   "outputs": [
    {
     "data": {
      "text/plain": [
       "4.75"
      ]
     },
     "execution_count": 22,
     "metadata": {},
     "output_type": "execute_result"
    }
   ],
   "source": [
    "def calcular_promedio (lista_num):\n",
    "# La condición if/for SIEMPRE tiene que devolver algo (no olvidar el return). Aquí vemos si la lista está vacía. Si lo está nos devuelve 0.\n",
    "    if  len(lista_num) == 0: \n",
    "        return 0\n",
    "    suma = sum(lista_num)\n",
    "    resultado = len(lista_num)\n",
    "    promedio = suma / resultado\n",
    "\n",
    "    return promedio\n",
    "\n",
    "lista_numeros =[1, 6, 3, 9]\n",
    "calcular_promedio(lista_numeros)"
   ]
  },
  {
   "cell_type": "markdown",
   "metadata": {},
   "source": [
    "5. Calcular el interés compuesto.\n",
    "\n",
    "- **Descripción**: Crea una función llamada `calcular_interes_compuesto` que tome el capital inicial, la tasa de interés y el número de períodos como parámetros y devuelva el beneficio final después del interés compuesto."
   ]
  },
  {
   "cell_type": "code",
   "execution_count": null,
   "metadata": {},
   "outputs": [],
   "source": []
  },
  {
   "cell_type": "markdown",
   "metadata": {},
   "source": [
    "6. Validar si una palabra es un anagrama de otra.\n",
    "\n",
    "- **Descripción**: Crea una función llamada `es_anagrama` que tome dos palabras como parámetros y devuelva `True` si una es un anagrama de la otra, o `False` si no lo es.\n",
    "\n",
    "- ¿Qué es un anagrama?."
   ]
  },
  {
   "cell_type": "code",
   "execution_count": 29,
   "metadata": {},
   "outputs": [
    {
     "data": {
      "text/plain": [
       "True"
      ]
     },
     "execution_count": 29,
     "metadata": {},
     "output_type": "execute_result"
    }
   ],
   "source": [
    "# Un anagrama es una palabra o frase que se forma reorganizando las letras de otra palabra o frase, usando todas las letras originales exactamente una vez.\n",
    "# Por ejemplo, las palabras \"listen\" y \"silent\" son anagramas entre sí.\n",
    "palabra1 = (\"ama\")\n",
    "palabra2 = (\"ama\")\n",
    "\n",
    "def es_anagrama (palabra1, palabra2):\n",
    "\n",
    "    if len(palabra1) == len(palabra2):\n",
    "        if sorted(palabra1) == sorted(palabra2):\n",
    "            return True\n",
    "        else:\n",
    "            return False\n",
    "    else:\n",
    "        return False\n",
    "    \n",
    "es_anagrama(palabra1, palabra2)"
   ]
  },
  {
   "cell_type": "markdown",
   "metadata": {},
   "source": [
    "7. Validar si una cadena de texto es un isograma.\n",
    "\n",
    "- **Descripción**: Crea una función llamada `es_isograma` que tome una cadena de texto como parámetro y devuelva `True` si es un isograma. En caso contrario, devuelve `False`.\n",
    "\n",
    "- ¿Qué es un isograma? Una palabra que no contiene letras repetidas."
   ]
  },
  {
   "cell_type": "code",
   "execution_count": 39,
   "metadata": {},
   "outputs": [
    {
     "data": {
      "text/plain": [
       "False"
      ]
     },
     "execution_count": 39,
     "metadata": {},
     "output_type": "execute_result"
    }
   ],
   "source": [
    "# Un isograma es una palabra que no contiene letras repetidas, es decir, cada letra aparece solo una vez.\n",
    "text = \"beatriz\"\n",
    "\n",
    "def es_isograma (cadena_texto):\n",
    "# No hace falta hacer una lógica complicada, con un return inicandole lo que debe hacer al devolver vale.\n",
    "# Primero le pedimos que nos de el largo del string con el len. Y dentro le pedimos un set del string que lo que hace es quedarse SOLO con los carácteres únicos.\n",
    "# Luego le pedimos que nos compare si esos carácteres son iguales a solo el len del string. Si aparece alguno repetido nos dará false.\n",
    "    return len(set(cadena_texto)) == len(cadena_texto)\n",
    "    \n",
    "es_isograma(text)"
   ]
  },
  {
   "cell_type": "markdown",
   "metadata": {},
   "source": [
    "8. Concatenar múltiples cadenas de texto\n",
    "\n",
    "- **Descripción**: Crea una función llamada `concatenar_cadenas` que tome una cantidad variable de cadenas de texto como argumentos y devuelva una única cadena que contenga la concatenación de todas las cadenas ingresadas."
   ]
  },
  {
   "cell_type": "code",
   "execution_count": 6,
   "metadata": {},
   "outputs": [],
   "source": [
    "# Solo usar args"
   ]
  },
  {
   "cell_type": "markdown",
   "metadata": {},
   "source": [
    "9. Crear un diccionario con información de una persona.\n",
    "\n",
    "- **Descripción**: Crea una función llamada `crear_persona` que tome como argumentos clave-valor los datos de una persona, como nombre, edad, ciudad, etc., y devuelva un diccionario con toda la información ingresada."
   ]
  },
  {
   "cell_type": "code",
   "execution_count": 7,
   "metadata": {},
   "outputs": [],
   "source": [
    "# Solo usar kwargs"
   ]
  },
  {
   "cell_type": "markdown",
   "metadata": {},
   "source": [
    "10. Encontrar el número que falta en una lista ordenada de números consecutivos.\n",
    "\n",
    "- **Descripción**: Crea una función llamada `encontrar_numero_faltante` que tome una lista de números consecutivos (del 1 al N, sin repetir) con un número faltante y devuelva ese número faltante."
   ]
  },
  {
   "cell_type": "code",
   "execution_count": null,
   "metadata": {},
   "outputs": [],
   "source": []
  },
  {
   "cell_type": "markdown",
   "metadata": {},
   "source": [
    "11. Encontrar el elemento duplicado en una lista de números.\n",
    "\n",
    "- **Descripción**: Crea una función llamada `encontrar_duplicado` que tome una lista de números enteros y devuelva el elemento que está duplicado en la lista."
   ]
  },
  {
   "cell_type": "code",
   "execution_count": null,
   "metadata": {},
   "outputs": [],
   "source": []
  }
 ],
 "metadata": {
  "kernelspec": {
   "display_name": "base",
   "language": "python",
   "name": "python3"
  },
  "language_info": {
   "codemirror_mode": {
    "name": "ipython",
    "version": 3
   },
   "file_extension": ".py",
   "mimetype": "text/x-python",
   "name": "python",
   "nbconvert_exporter": "python",
   "pygments_lexer": "ipython3",
   "version": "3.11.7"
  }
 },
 "nbformat": 4,
 "nbformat_minor": 2
}
